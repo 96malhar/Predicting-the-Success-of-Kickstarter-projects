{
 "cells": [
  {
   "cell_type": "markdown",
   "metadata": {},
   "source": [
    "## Import Libraries"
   ]
  },
  {
   "cell_type": "code",
   "execution_count": 53,
   "metadata": {},
   "outputs": [],
   "source": [
    "import numpy as np\n",
    "import pandas as pd\n",
    "import matplotlib.pyplot as plt\n",
    "import seaborn as sns\n",
    "from sklearn.model_selection import train_test_split, StratifiedKFold, GridSearchCV, RandomizedSearchCV\n",
    "from sklearn.metrics import accuracy_score,f1_score, make_scorer, classification_report, roc_auc_score\n",
    "from sklearn.dummy import DummyClassifier\n",
    "import sqlite3\n",
    "import datetime\n",
    "import scikitplot as skplt\n",
    "from sklearn.decomposition import TruncatedSVD\n",
    "from sklearn.preprocessing import StandardScaler\n",
    "from scipy.sparse import csr_matrix, hstack\n",
    "import pickle\n",
    "\n",
    "from sklearn.feature_extraction.text import TfidfTransformer\n",
    "from sklearn.feature_extraction.text import TfidfVectorizer\n",
    "from sklearn.feature_extraction.text import CountVectorizer\n",
    "from sklearn.linear_model import LogisticRegression, SGDClassifier\n",
    "from sklearn.calibration import CalibratedClassifierCV\n",
    "from gensim.models import Word2Vec\n",
    "\n",
    "from sklearn.externals.joblib import parallel_backend\n",
    "from sklearn.externals import joblib\n",
    "\n",
    "import warnings\n",
    "warnings.filterwarnings('ignore')\n",
    "global_start = datetime.datetime.now()\n",
    "\n",
    "pd.set_option('display.max_rows', 500)\n",
    "pd.set_option('display.max_columns', 500)\n",
    "pd.set_option('display.width', 1000)"
   ]
  },
  {
   "cell_type": "markdown",
   "metadata": {},
   "source": [
    "## Read existing data"
   ]
  },
  {
   "cell_type": "code",
   "execution_count": 54,
   "metadata": {},
   "outputs": [
    {
     "data": {
      "text/html": [
       "<div>\n",
       "<style scoped>\n",
       "    .dataframe tbody tr th:only-of-type {\n",
       "        vertical-align: middle;\n",
       "    }\n",
       "\n",
       "    .dataframe tbody tr th {\n",
       "        vertical-align: top;\n",
       "    }\n",
       "\n",
       "    .dataframe thead th {\n",
       "        text-align: right;\n",
       "    }\n",
       "</style>\n",
       "<table border=\"1\" class=\"dataframe\">\n",
       "  <thead>\n",
       "    <tr style=\"text-align: right;\">\n",
       "      <th></th>\n",
       "      <th>goal</th>\n",
       "      <th>staff_pick</th>\n",
       "      <th>loc_country</th>\n",
       "      <th>cat_name</th>\n",
       "      <th>cat_parent</th>\n",
       "      <th>state</th>\n",
       "      <th>campaign_length</th>\n",
       "      <th>blurb_length</th>\n",
       "    </tr>\n",
       "  </thead>\n",
       "  <tbody>\n",
       "    <tr>\n",
       "      <th>0</th>\n",
       "      <td>1000.0</td>\n",
       "      <td>False</td>\n",
       "      <td>US</td>\n",
       "      <td>Glass</td>\n",
       "      <td>crafts</td>\n",
       "      <td>failed</td>\n",
       "      <td>17</td>\n",
       "      <td>22</td>\n",
       "    </tr>\n",
       "    <tr>\n",
       "      <th>1</th>\n",
       "      <td>2000.0</td>\n",
       "      <td>False</td>\n",
       "      <td>US</td>\n",
       "      <td>Tabletop Games</td>\n",
       "      <td>games</td>\n",
       "      <td>successful</td>\n",
       "      <td>16</td>\n",
       "      <td>14</td>\n",
       "    </tr>\n",
       "    <tr>\n",
       "      <th>2</th>\n",
       "      <td>4400.0</td>\n",
       "      <td>False</td>\n",
       "      <td>US</td>\n",
       "      <td>Translations</td>\n",
       "      <td>publishing</td>\n",
       "      <td>failed</td>\n",
       "      <td>40</td>\n",
       "      <td>25</td>\n",
       "    </tr>\n",
       "    <tr>\n",
       "      <th>3</th>\n",
       "      <td>50000.0</td>\n",
       "      <td>False</td>\n",
       "      <td>US</td>\n",
       "      <td>Web</td>\n",
       "      <td>technology</td>\n",
       "      <td>failed</td>\n",
       "      <td>30</td>\n",
       "      <td>16</td>\n",
       "    </tr>\n",
       "    <tr>\n",
       "      <th>4</th>\n",
       "      <td>3000.0</td>\n",
       "      <td>False</td>\n",
       "      <td>GB</td>\n",
       "      <td>Comic Books</td>\n",
       "      <td>comics</td>\n",
       "      <td>successful</td>\n",
       "      <td>30</td>\n",
       "      <td>24</td>\n",
       "    </tr>\n",
       "  </tbody>\n",
       "</table>\n",
       "</div>"
      ],
      "text/plain": [
       "      goal  staff_pick loc_country        cat_name  cat_parent       state  campaign_length  blurb_length\n",
       "0   1000.0       False          US           Glass      crafts      failed               17            22\n",
       "1   2000.0       False          US  Tabletop Games       games  successful               16            14\n",
       "2   4400.0       False          US    Translations  publishing      failed               40            25\n",
       "3  50000.0       False          US             Web  technology      failed               30            16\n",
       "4   3000.0       False          GB     Comic Books      comics  successful               30            24"
      ]
     },
     "execution_count": 54,
     "metadata": {},
     "output_type": "execute_result"
    }
   ],
   "source": [
    "data = pd.read_csv('basic_features.csv')\n",
    "data.head()"
   ]
  },
  {
   "cell_type": "markdown",
   "metadata": {},
   "source": [
    "## Create user DataFrame"
   ]
  },
  {
   "cell_type": "code",
   "execution_count": 55,
   "metadata": {},
   "outputs": [],
   "source": [
    "user_df = pd.DataFrame([[2.0, True, 'US', 'Glass', 'crafts', 'failed', 12, 21]], columns=data.columns)"
   ]
  },
  {
   "cell_type": "markdown",
   "metadata": {},
   "source": [
    "## Append Data to the existing data"
   ]
  },
  {
   "cell_type": "code",
   "execution_count": 56,
   "metadata": {},
   "outputs": [
    {
     "data": {
      "text/html": [
       "<div>\n",
       "<style scoped>\n",
       "    .dataframe tbody tr th:only-of-type {\n",
       "        vertical-align: middle;\n",
       "    }\n",
       "\n",
       "    .dataframe tbody tr th {\n",
       "        vertical-align: top;\n",
       "    }\n",
       "\n",
       "    .dataframe thead th {\n",
       "        text-align: right;\n",
       "    }\n",
       "</style>\n",
       "<table border=\"1\" class=\"dataframe\">\n",
       "  <thead>\n",
       "    <tr style=\"text-align: right;\">\n",
       "      <th></th>\n",
       "      <th>goal</th>\n",
       "      <th>staff_pick</th>\n",
       "      <th>loc_country</th>\n",
       "      <th>cat_name</th>\n",
       "      <th>cat_parent</th>\n",
       "      <th>state</th>\n",
       "      <th>campaign_length</th>\n",
       "      <th>blurb_length</th>\n",
       "    </tr>\n",
       "  </thead>\n",
       "  <tbody>\n",
       "    <tr>\n",
       "      <th>208990</th>\n",
       "      <td>600.0</td>\n",
       "      <td>False</td>\n",
       "      <td>US</td>\n",
       "      <td>Public Art</td>\n",
       "      <td>art</td>\n",
       "      <td>failed</td>\n",
       "      <td>33</td>\n",
       "      <td>22</td>\n",
       "    </tr>\n",
       "    <tr>\n",
       "      <th>208991</th>\n",
       "      <td>250000.0</td>\n",
       "      <td>False</td>\n",
       "      <td>AU</td>\n",
       "      <td>Hardware</td>\n",
       "      <td>technology</td>\n",
       "      <td>failed</td>\n",
       "      <td>30</td>\n",
       "      <td>9</td>\n",
       "    </tr>\n",
       "    <tr>\n",
       "      <th>208992</th>\n",
       "      <td>10000.0</td>\n",
       "      <td>True</td>\n",
       "      <td>US</td>\n",
       "      <td>Design</td>\n",
       "      <td>design</td>\n",
       "      <td>successful</td>\n",
       "      <td>30</td>\n",
       "      <td>12</td>\n",
       "    </tr>\n",
       "    <tr>\n",
       "      <th>208993</th>\n",
       "      <td>30000.0</td>\n",
       "      <td>False</td>\n",
       "      <td>US</td>\n",
       "      <td>Hardware</td>\n",
       "      <td>technology</td>\n",
       "      <td>failed</td>\n",
       "      <td>30</td>\n",
       "      <td>17</td>\n",
       "    </tr>\n",
       "    <tr>\n",
       "      <th>208994</th>\n",
       "      <td>2.0</td>\n",
       "      <td>True</td>\n",
       "      <td>US</td>\n",
       "      <td>Glass</td>\n",
       "      <td>crafts</td>\n",
       "      <td>failed</td>\n",
       "      <td>12</td>\n",
       "      <td>21</td>\n",
       "    </tr>\n",
       "  </tbody>\n",
       "</table>\n",
       "</div>"
      ],
      "text/plain": [
       "            goal  staff_pick loc_country    cat_name  cat_parent       state  campaign_length  blurb_length\n",
       "208990     600.0       False          US  Public Art         art      failed               33            22\n",
       "208991  250000.0       False          AU    Hardware  technology      failed               30             9\n",
       "208992   10000.0        True          US      Design      design  successful               30            12\n",
       "208993   30000.0       False          US    Hardware  technology      failed               30            17\n",
       "208994       2.0        True          US       Glass      crafts      failed               12            21"
      ]
     },
     "execution_count": 56,
     "metadata": {},
     "output_type": "execute_result"
    }
   ],
   "source": [
    "data = data.append(user_df, ignore_index=True)\n",
    "data.tail(5)"
   ]
  },
  {
   "cell_type": "markdown",
   "metadata": {},
   "source": [
    "## Preprocess the data to pass to the ML Model"
   ]
  },
  {
   "cell_type": "code",
   "execution_count": 57,
   "metadata": {},
   "outputs": [],
   "source": [
    "data =  pd.get_dummies(data, columns=['loc_country','cat_name', 'cat_parent'])\n",
    "data.drop(columns=['state'], inplace=True)\n",
    "user_data = data.iloc[-1,:]\n",
    "user_data = np.array(user_data.values, dtype=np.float64).reshape(1,-1)"
   ]
  },
  {
   "cell_type": "markdown",
   "metadata": {},
   "source": [
    "## Make Predictions"
   ]
  },
  {
   "cell_type": "code",
   "execution_count": 58,
   "metadata": {},
   "outputs": [
    {
     "data": {
      "text/plain": [
       "array([[0.21156932, 0.78843068]])"
      ]
     },
     "execution_count": 58,
     "metadata": {},
     "output_type": "execute_result"
    }
   ],
   "source": [
    "loaded_model = joblib.load('lr_no_nlp.pkl')\n",
    "loaded_model.predict_proba(user_data)"
   ]
  }
 ],
 "metadata": {
  "kernelspec": {
   "display_name": "Python 3",
   "language": "python",
   "name": "python3"
  },
  "language_info": {
   "codemirror_mode": {
    "name": "ipython",
    "version": 3
   },
   "file_extension": ".py",
   "mimetype": "text/x-python",
   "name": "python",
   "nbconvert_exporter": "python",
   "pygments_lexer": "ipython3",
   "version": "3.6.8"
  }
 },
 "nbformat": 4,
 "nbformat_minor": 2
}
